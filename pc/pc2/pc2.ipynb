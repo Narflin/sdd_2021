{
 "cells": [
  {
   "cell_type": "markdown",
   "metadata": {},
   "source": [
    "# PC 2 : Réduction de dimension - 10 juin 2020"
   ]
  },
  {
   "cell_type": "markdown",
   "metadata": {},
   "source": [
    "Dans ce notebook, nous allons effectuer une analyse en composantes principales d'un jeu de données décrivant les scores obtenus par les meilleurs athlètes ayant participé en 2004 à une épreuve de décathlon, aux Jeux Olympiques d'Athènes ou au Décastar de Talence.\n",
    "\n",
    "Nous utiliserons pour cela la toolbox `scikit-learn` : http://scikit-learn.org/stable/index.html. `scikit-learn` est un ensemble de librairies de machine learning très utilisée et qui implémente la plupart des algorithmes d'apprentissage automatique non-profond. Il s'agit d'un projet Open Source. \n",
    "\n",
    "Dans une deuxième partie facultative, vous pourrez vous essayer à implémenter l'ACP vous-mêmes."
   ]
  },
  {
   "cell_type": "markdown",
   "metadata": {},
   "source": [
    "## Librairies python \n",
    "\n",
    "Ce notebook a été créé avec les versions suivantes des librairies :\n",
    "* numpy 1.20.2\n",
    "* matplotlib 3.4.2\n",
    "* pandas 1.2.4\n",
    "* sklearn 0.24.2\n",
    "* seaborn 0.11.1\n",
    "\n",
    "Tout devrait bien se passer si vous êtes bien dans l'environnement conda `sdd2021` chargé grâce au fichier `environment.yml` à la racine du repo. Des différences de version peuvent expliquer des comportements inattendus (avertissements, messages d'erreurs, fonctionalités inexistantes) mais il n'est pas nécessaire a priori d'avoir exactement les versions listées ci-dessus. Si vous souhaitez vérifier les versions des différentes librairies que vous utilisez, vous pouvez utiliser (après les import correspondant bien sûr) le code suivant :\n",
    "```python\n",
    "print(np.__version__)\n",
    "print(matplotlib.__version__)\n",
    "print(pd.__version__)\n",
    "print(sklearn.__version__)\n",
    "print(sns.__version__)\n",
    "```"
   ]
  },
  {
   "cell_type": "code",
   "execution_count": 1,
   "metadata": {},
   "outputs": [
    {
     "name": "stdout",
     "output_type": "stream",
     "text": [
      "Populating the interactive namespace from numpy and matplotlib\n"
     ]
    }
   ],
   "source": [
    "# charger numpy as np, matplotlib as plt\n",
    "%pylab inline"
   ]
  },
  {
   "cell_type": "code",
   "execution_count": 2,
   "metadata": {},
   "outputs": [],
   "source": [
    "plt.rc('font', **{'size': 14}) # règle la taille de police globalement pour les plots (en pt)"
   ]
  },
  {
   "cell_type": "code",
   "execution_count": 3,
   "metadata": {},
   "outputs": [],
   "source": [
    "import pandas as pd"
   ]
  },
  {
   "cell_type": "markdown",
   "metadata": {},
   "source": [
    "## 1. Données"
   ]
  },
  {
   "cell_type": "markdown",
   "metadata": {},
   "source": [
    "Les données sont contenues dans le fichier `data/decathlon.txt`.\n",
    "\n",
    "Le fichier contient 42 lignes et 13 colonnes.\n",
    "\n",
    "La première ligne est un en-tête qui décrit les contenus des colonnes.\n",
    "\n",
    "Les lignes suivantes décrivent les 41 athlètes.\n",
    "\n",
    "Les 10 premières colonnes contiennent les scores obtenus aux différentes épreuves.\n",
    "La 11ème colonne contient le classement.\n",
    "La 12ème colonne contient le nombre de points obtenus.\n",
    "La 13ème colonne contient une variable qualitative qui précise l'épreuve (JO ou Décastar) concernée.\n",
    "\n",
    "Nous allons examiner ces données avec la librairie `pandas`."
   ]
  },
  {
   "cell_type": "code",
   "execution_count": 4,
   "metadata": {},
   "outputs": [],
   "source": [
    "import pandas as pd\n",
    "my_data = pd.read_csv('data/decathlon.txt', sep=\"\\t\")  # lire les données dans un dataframe"
   ]
  },
  {
   "cell_type": "code",
   "execution_count": 5,
   "metadata": {},
   "outputs": [
    {
     "data": {
      "text/html": [
       "<div>\n",
       "<style scoped>\n",
       "    .dataframe tbody tr th:only-of-type {\n",
       "        vertical-align: middle;\n",
       "    }\n",
       "\n",
       "    .dataframe tbody tr th {\n",
       "        vertical-align: top;\n",
       "    }\n",
       "\n",
       "    .dataframe thead th {\n",
       "        text-align: right;\n",
       "    }\n",
       "</style>\n",
       "<table border=\"1\" class=\"dataframe\">\n",
       "  <thead>\n",
       "    <tr style=\"text-align: right;\">\n",
       "      <th></th>\n",
       "      <th>100m</th>\n",
       "      <th>Long.jump</th>\n",
       "      <th>Shot.put</th>\n",
       "      <th>High.jump</th>\n",
       "      <th>400m</th>\n",
       "      <th>110m.hurdle</th>\n",
       "      <th>Discus</th>\n",
       "      <th>Pole.vault</th>\n",
       "      <th>Javeline</th>\n",
       "      <th>1500m</th>\n",
       "      <th>Rank</th>\n",
       "      <th>Points</th>\n",
       "      <th>Competition</th>\n",
       "    </tr>\n",
       "  </thead>\n",
       "  <tbody>\n",
       "    <tr>\n",
       "      <th>SEBRLE</th>\n",
       "      <td>11.04</td>\n",
       "      <td>7.58</td>\n",
       "      <td>14.83</td>\n",
       "      <td>2.07</td>\n",
       "      <td>49.81</td>\n",
       "      <td>14.69</td>\n",
       "      <td>43.75</td>\n",
       "      <td>5.02</td>\n",
       "      <td>63.19</td>\n",
       "      <td>291.7</td>\n",
       "      <td>1</td>\n",
       "      <td>8217</td>\n",
       "      <td>Decastar</td>\n",
       "    </tr>\n",
       "    <tr>\n",
       "      <th>CLAY</th>\n",
       "      <td>10.76</td>\n",
       "      <td>7.40</td>\n",
       "      <td>14.26</td>\n",
       "      <td>1.86</td>\n",
       "      <td>49.37</td>\n",
       "      <td>14.05</td>\n",
       "      <td>50.72</td>\n",
       "      <td>4.92</td>\n",
       "      <td>60.15</td>\n",
       "      <td>301.5</td>\n",
       "      <td>2</td>\n",
       "      <td>8122</td>\n",
       "      <td>Decastar</td>\n",
       "    </tr>\n",
       "    <tr>\n",
       "      <th>KARPOV</th>\n",
       "      <td>11.02</td>\n",
       "      <td>7.30</td>\n",
       "      <td>14.77</td>\n",
       "      <td>2.04</td>\n",
       "      <td>48.37</td>\n",
       "      <td>14.09</td>\n",
       "      <td>48.95</td>\n",
       "      <td>4.92</td>\n",
       "      <td>50.31</td>\n",
       "      <td>300.2</td>\n",
       "      <td>3</td>\n",
       "      <td>8099</td>\n",
       "      <td>Decastar</td>\n",
       "    </tr>\n",
       "    <tr>\n",
       "      <th>BERNARD</th>\n",
       "      <td>11.02</td>\n",
       "      <td>7.23</td>\n",
       "      <td>14.25</td>\n",
       "      <td>1.92</td>\n",
       "      <td>48.93</td>\n",
       "      <td>14.99</td>\n",
       "      <td>40.87</td>\n",
       "      <td>5.32</td>\n",
       "      <td>62.77</td>\n",
       "      <td>280.1</td>\n",
       "      <td>4</td>\n",
       "      <td>8067</td>\n",
       "      <td>Decastar</td>\n",
       "    </tr>\n",
       "    <tr>\n",
       "      <th>YURKOV</th>\n",
       "      <td>11.34</td>\n",
       "      <td>7.09</td>\n",
       "      <td>15.19</td>\n",
       "      <td>2.10</td>\n",
       "      <td>50.42</td>\n",
       "      <td>15.31</td>\n",
       "      <td>46.26</td>\n",
       "      <td>4.72</td>\n",
       "      <td>63.44</td>\n",
       "      <td>276.4</td>\n",
       "      <td>5</td>\n",
       "      <td>8036</td>\n",
       "      <td>Decastar</td>\n",
       "    </tr>\n",
       "  </tbody>\n",
       "</table>\n",
       "</div>"
      ],
      "text/plain": [
       "          100m  Long.jump  Shot.put  High.jump   400m  110m.hurdle  Discus  \\\n",
       "SEBRLE   11.04       7.58     14.83       2.07  49.81        14.69   43.75   \n",
       "CLAY     10.76       7.40     14.26       1.86  49.37        14.05   50.72   \n",
       "KARPOV   11.02       7.30     14.77       2.04  48.37        14.09   48.95   \n",
       "BERNARD  11.02       7.23     14.25       1.92  48.93        14.99   40.87   \n",
       "YURKOV   11.34       7.09     15.19       2.10  50.42        15.31   46.26   \n",
       "\n",
       "         Pole.vault  Javeline  1500m  Rank  Points Competition  \n",
       "SEBRLE         5.02     63.19  291.7     1    8217    Decastar  \n",
       "CLAY           4.92     60.15  301.5     2    8122    Decastar  \n",
       "KARPOV         4.92     50.31  300.2     3    8099    Decastar  \n",
       "BERNARD        5.32     62.77  280.1     4    8067    Decastar  \n",
       "YURKOV         4.72     63.44  276.4     5    8036    Decastar  "
      ]
     },
     "execution_count": 5,
     "metadata": {},
     "output_type": "execute_result"
    }
   ],
   "source": [
    "my_data.head()"
   ]
  },
  {
   "cell_type": "markdown",
   "metadata": {},
   "source": [
    "## 2. Quelques rappels sur `pandas`\n",
    "\n",
    "Assurez-vous que vous comprenez l'usage des fonctionalités ci-dessous"
   ]
  },
  {
   "cell_type": "code",
   "execution_count": 6,
   "metadata": {
    "collapsed": false,
    "jupyter": {
     "outputs_hidden": false
    }
   },
   "outputs": [
    {
     "name": "stdout",
     "output_type": "stream",
     "text": [
      "['100m', 'Long.jump', 'Shot.put', 'High.jump', '400m', '110m.hurdle', 'Discus', 'Pole.vault', 'Javeline', '1500m', 'Rank', 'Points', 'Competition']\n"
     ]
    }
   ],
   "source": [
    "# Lister les noms des colonnes\n",
    "my_columns = list(my_data.columns) \n",
    "print(my_columns)"
   ]
  },
  {
   "cell_type": "code",
   "execution_count": 7,
   "metadata": {},
   "outputs": [
    {
     "data": {
      "text/plain": [
       "SEBRLE     11.04\n",
       "CLAY       10.76\n",
       "KARPOV     11.02\n",
       "BERNARD    11.02\n",
       "YURKOV     11.34\n",
       "Name: 100m, dtype: float64"
      ]
     },
     "execution_count": 7,
     "metadata": {},
     "output_type": "execute_result"
    }
   ],
   "source": [
    "# Sélectionner une colonne\n",
    "my_data['100m'].head()"
   ]
  },
  {
   "cell_type": "code",
   "execution_count": 8,
   "metadata": {},
   "outputs": [
    {
     "data": {
      "text/html": [
       "<div>\n",
       "<style scoped>\n",
       "    .dataframe tbody tr th:only-of-type {\n",
       "        vertical-align: middle;\n",
       "    }\n",
       "\n",
       "    .dataframe tbody tr th {\n",
       "        vertical-align: top;\n",
       "    }\n",
       "\n",
       "    .dataframe thead th {\n",
       "        text-align: right;\n",
       "    }\n",
       "</style>\n",
       "<table border=\"1\" class=\"dataframe\">\n",
       "  <thead>\n",
       "    <tr style=\"text-align: right;\">\n",
       "      <th></th>\n",
       "      <th>100m</th>\n",
       "      <th>400m</th>\n",
       "    </tr>\n",
       "  </thead>\n",
       "  <tbody>\n",
       "    <tr>\n",
       "      <th>SEBRLE</th>\n",
       "      <td>11.04</td>\n",
       "      <td>49.81</td>\n",
       "    </tr>\n",
       "    <tr>\n",
       "      <th>CLAY</th>\n",
       "      <td>10.76</td>\n",
       "      <td>49.37</td>\n",
       "    </tr>\n",
       "    <tr>\n",
       "      <th>KARPOV</th>\n",
       "      <td>11.02</td>\n",
       "      <td>48.37</td>\n",
       "    </tr>\n",
       "    <tr>\n",
       "      <th>BERNARD</th>\n",
       "      <td>11.02</td>\n",
       "      <td>48.93</td>\n",
       "    </tr>\n",
       "    <tr>\n",
       "      <th>YURKOV</th>\n",
       "      <td>11.34</td>\n",
       "      <td>50.42</td>\n",
       "    </tr>\n",
       "  </tbody>\n",
       "</table>\n",
       "</div>"
      ],
      "text/plain": [
       "          100m   400m\n",
       "SEBRLE   11.04  49.81\n",
       "CLAY     10.76  49.37\n",
       "KARPOV   11.02  48.37\n",
       "BERNARD  11.02  48.93\n",
       "YURKOV   11.34  50.42"
      ]
     },
     "execution_count": 8,
     "metadata": {},
     "output_type": "execute_result"
    }
   ],
   "source": [
    "# Sélectionner plusieurs colonnes\n",
    "columns = ['100m', '400m']\n",
    "my_data[columns].head()"
   ]
  },
  {
   "cell_type": "code",
   "execution_count": 9,
   "metadata": {},
   "outputs": [
    {
     "data": {
      "text/html": [
       "<div>\n",
       "<style scoped>\n",
       "    .dataframe tbody tr th:only-of-type {\n",
       "        vertical-align: middle;\n",
       "    }\n",
       "\n",
       "    .dataframe tbody tr th {\n",
       "        vertical-align: top;\n",
       "    }\n",
       "\n",
       "    .dataframe thead th {\n",
       "        text-align: right;\n",
       "    }\n",
       "</style>\n",
       "<table border=\"1\" class=\"dataframe\">\n",
       "  <thead>\n",
       "    <tr style=\"text-align: right;\">\n",
       "      <th></th>\n",
       "      <th>100m</th>\n",
       "      <th>Long.jump</th>\n",
       "      <th>Shot.put</th>\n",
       "      <th>High.jump</th>\n",
       "      <th>400m</th>\n",
       "      <th>110m.hurdle</th>\n",
       "      <th>Discus</th>\n",
       "      <th>Pole.vault</th>\n",
       "      <th>Javeline</th>\n",
       "      <th>1500m</th>\n",
       "      <th>Rank</th>\n",
       "      <th>Points</th>\n",
       "      <th>Competition</th>\n",
       "    </tr>\n",
       "  </thead>\n",
       "  <tbody>\n",
       "    <tr>\n",
       "      <th>Sebrle</th>\n",
       "      <td>10.85</td>\n",
       "      <td>7.84</td>\n",
       "      <td>16.36</td>\n",
       "      <td>2.12</td>\n",
       "      <td>48.36</td>\n",
       "      <td>14.05</td>\n",
       "      <td>48.72</td>\n",
       "      <td>5.0</td>\n",
       "      <td>70.52</td>\n",
       "      <td>280.01</td>\n",
       "      <td>1</td>\n",
       "      <td>8893</td>\n",
       "      <td>OlympicG</td>\n",
       "    </tr>\n",
       "    <tr>\n",
       "      <th>Clay</th>\n",
       "      <td>10.44</td>\n",
       "      <td>7.96</td>\n",
       "      <td>15.23</td>\n",
       "      <td>2.06</td>\n",
       "      <td>49.19</td>\n",
       "      <td>14.13</td>\n",
       "      <td>50.11</td>\n",
       "      <td>4.9</td>\n",
       "      <td>69.71</td>\n",
       "      <td>282.00</td>\n",
       "      <td>2</td>\n",
       "      <td>8820</td>\n",
       "      <td>OlympicG</td>\n",
       "    </tr>\n",
       "    <tr>\n",
       "      <th>Karpov</th>\n",
       "      <td>10.50</td>\n",
       "      <td>7.81</td>\n",
       "      <td>15.93</td>\n",
       "      <td>2.09</td>\n",
       "      <td>46.81</td>\n",
       "      <td>13.97</td>\n",
       "      <td>51.65</td>\n",
       "      <td>4.6</td>\n",
       "      <td>55.54</td>\n",
       "      <td>278.11</td>\n",
       "      <td>3</td>\n",
       "      <td>8725</td>\n",
       "      <td>OlympicG</td>\n",
       "    </tr>\n",
       "    <tr>\n",
       "      <th>Macey</th>\n",
       "      <td>10.89</td>\n",
       "      <td>7.47</td>\n",
       "      <td>15.73</td>\n",
       "      <td>2.15</td>\n",
       "      <td>48.97</td>\n",
       "      <td>14.56</td>\n",
       "      <td>48.34</td>\n",
       "      <td>4.4</td>\n",
       "      <td>58.46</td>\n",
       "      <td>265.42</td>\n",
       "      <td>4</td>\n",
       "      <td>8414</td>\n",
       "      <td>OlympicG</td>\n",
       "    </tr>\n",
       "    <tr>\n",
       "      <th>Warners</th>\n",
       "      <td>10.62</td>\n",
       "      <td>7.74</td>\n",
       "      <td>14.48</td>\n",
       "      <td>1.97</td>\n",
       "      <td>47.97</td>\n",
       "      <td>14.01</td>\n",
       "      <td>43.73</td>\n",
       "      <td>4.9</td>\n",
       "      <td>55.39</td>\n",
       "      <td>278.05</td>\n",
       "      <td>5</td>\n",
       "      <td>8343</td>\n",
       "      <td>OlympicG</td>\n",
       "    </tr>\n",
       "  </tbody>\n",
       "</table>\n",
       "</div>"
      ],
      "text/plain": [
       "          100m  Long.jump  Shot.put  High.jump   400m  110m.hurdle  Discus  \\\n",
       "Sebrle   10.85       7.84     16.36       2.12  48.36        14.05   48.72   \n",
       "Clay     10.44       7.96     15.23       2.06  49.19        14.13   50.11   \n",
       "Karpov   10.50       7.81     15.93       2.09  46.81        13.97   51.65   \n",
       "Macey    10.89       7.47     15.73       2.15  48.97        14.56   48.34   \n",
       "Warners  10.62       7.74     14.48       1.97  47.97        14.01   43.73   \n",
       "\n",
       "         Pole.vault  Javeline   1500m  Rank  Points Competition  \n",
       "Sebrle          5.0     70.52  280.01     1    8893    OlympicG  \n",
       "Clay            4.9     69.71  282.00     2    8820    OlympicG  \n",
       "Karpov          4.6     55.54  278.11     3    8725    OlympicG  \n",
       "Macey           4.4     58.46  265.42     4    8414    OlympicG  \n",
       "Warners         4.9     55.39  278.05     5    8343    OlympicG  "
      ]
     },
     "execution_count": 9,
     "metadata": {},
     "output_type": "execute_result"
    }
   ],
   "source": [
    "# Sélectionner des lignes à partir de la valeur d'une colonne\n",
    "my_data[my_data['Competition']=='OlympicG'].head()"
   ]
  },
  {
   "cell_type": "code",
   "execution_count": 10,
   "metadata": {
    "collapsed": false,
    "jupyter": {
     "outputs_hidden": false
    }
   },
   "outputs": [
    {
     "name": "stdout",
     "output_type": "stream",
     "text": [
      "(41, 13)\n"
     ]
    }
   ],
   "source": [
    "# Dimensions des données\n",
    "print(my_data.shape)  "
   ]
  },
  {
   "cell_type": "code",
   "execution_count": 11,
   "metadata": {},
   "outputs": [
    {
     "name": "stdout",
     "output_type": "stream",
     "text": [
      "<class 'numpy.ndarray'>\n",
      "(41, 13)\n"
     ]
    }
   ],
   "source": [
    "# Valeurs du tableau sous forme d'array numpy\n",
    "my_data_values = my_data.values\n",
    "print(type(my_data_values))\n",
    "print(my_data_values.shape)"
   ]
  },
  {
   "cell_type": "code",
   "execution_count": 12,
   "metadata": {
    "collapsed": false,
    "jupyter": {
     "outputs_hidden": false
    }
   },
   "outputs": [
    {
     "name": "stdout",
     "output_type": "stream",
     "text": [
      "100m           float64\n",
      "Long.jump      float64\n",
      "Shot.put       float64\n",
      "High.jump      float64\n",
      "400m           float64\n",
      "110m.hurdle    float64\n",
      "Discus         float64\n",
      "Pole.vault     float64\n",
      "Javeline       float64\n",
      "1500m          float64\n",
      "Rank             int64\n",
      "Points           int64\n",
      "Competition     object\n",
      "dtype: object\n"
     ]
    }
   ],
   "source": [
    "# Type des colonnes\n",
    "print(my_data.dtypes)  "
   ]
  },
  {
   "cell_type": "markdown",
   "metadata": {},
   "source": [
    "## 3. Exploration des données"
   ]
  },
  {
   "cell_type": "markdown",
   "metadata": {},
   "source": [
    "### 3.1. Couples de variables\n",
    "Représentons les différents athlètes selon leur performance au 400m et au lancer du poids (`Shot.put`)"
   ]
  },
  {
   "cell_type": "code",
   "execution_count": 13,
   "metadata": {},
   "outputs": [
    {
     "data": {
      "text/plain": [
       "Text(0, 0.5, 'Performance au lancer du poids')"
      ]
     },
     "execution_count": 13,
     "metadata": {},
     "output_type": "execute_result"
    },
    {
     "data": {
      "image/png": "[encoded data removed]",
      "text/plain": [
       "<Figure size 432x288 with 1 Axes>"
      ]
     },
     "metadata": {
      "needs_background": "light"
     },
     "output_type": "display_data"
    }
   ],
   "source": [
    "plt.scatter(my_data['400m'], my_data['Shot.put'], s=50)\n",
    "\n",
    "plt.xlabel('Performance au 400m')\n",
    "plt.ylabel('Performance au lancer du poids')"
   ]
  },
  {
   "cell_type": "markdown",
   "metadata": {},
   "source": [
    "Les fourchettes de valeur prises par ces deux variables sont différentes, leurs unités aussi. Pour mieux les comparer il est souhaitable de les standardiser."
   ]
  },
  {
   "cell_type": "code",
   "execution_count": 14,
   "metadata": {},
   "outputs": [
    {
     "data": {
      "text/plain": [
       "Text(0, 0.5, 'Lancer du poids (performance standardisée)')"
      ]
     },
     "execution_count": 14,
     "metadata": {},
     "output_type": "execute_result"
    },
    {
     "data": {
      "image/png": "[encoded data removed]",
      "text/plain": [
       "<Figure size 360x360 with 1 Axes>"
      ]
     },
     "metadata": {
      "needs_background": "light"
     },
     "output_type": "display_data"
    }
   ],
   "source": [
    "fig = plt.figure(figsize=(5, 5)) # forcer une figure carrée\n",
    "\n",
    "data_400m_std = (my_data['400m'] - np.mean(my_data['400m']))/(np.std(my_data['400m']))\n",
    "data_shotput_std = (my_data['Shot.put'] - np.mean(my_data['Shot.put']))/(np.std(my_data['Shot.put']))\n",
    "\n",
    "\n",
    "plt.scatter(data_400m_std, data_shotput_std, s=50)\n",
    "\n",
    "plt.xlabel('400m (performance standardisée)')\n",
    "plt.ylabel('Lancer du poids (performance standardisée)')"
   ]
  },
  {
   "cell_type": "markdown",
   "metadata": {},
   "source": [
    "__Question :__ Ce nuage de points vous semble-t-il suggérer que les deux performances sont corrélées ?"
   ]
  },
  {
   "cell_type": "markdown",
   "metadata": {},
   "source": [
    "__Réponse :__ "
   ]
  },
  {
   "cell_type": "markdown",
   "metadata": {},
   "source": [
    "Nous pouvons calculer leur coefficient de corrélation de Pearson grâce au module `scipy.stats`. La fonction `pearsonr` renvoie même une p-valeur : https://docs.scipy.org/doc/scipy/reference/generated/scipy.stats.pearsonr.html"
   ]
  },
  {
   "cell_type": "code",
   "execution_count": 15,
   "metadata": {},
   "outputs": [],
   "source": [
    "import scipy.stats as st"
   ]
  },
  {
   "cell_type": "code",
   "execution_count": 16,
   "metadata": {},
   "outputs": [
    {
     "name": "stdout",
     "output_type": "stream",
     "text": [
      "Corrélation entre le lancer du poids et le 400m : -0.14 (p=3.88e-01)\n"
     ]
    }
   ],
   "source": [
    "r, pval = st.pearsonr(my_data['400m'], my_data['Shot.put'])\n",
    "print(\"Corrélation entre le lancer du poids et le 400m : %.2f (p=%.2e)\" % (r, pval))"
   ]
  },
  {
   "cell_type": "markdown",
   "metadata": {},
   "source": [
    "__Question :__ Cela vous semble-t-il en accord avec le nuage de points ?"
   ]
  },
  {
   "cell_type": "markdown",
   "metadata": {},
   "source": [
    "__Réponse :__ "
   ]
  },
  {
   "cell_type": "markdown",
   "metadata": {},
   "source": [
    "__Question :__ Choisissez deux variables dont il vous semble vraisemblable qu'elles soient corrélées. Affichez le nuage de points correspondant. Calculez le coefficient de corrélation de Pearson. Souhaitez-vous rejeter votre hypothèse ?"
   ]
  },
  {
   "cell_type": "code",
   "execution_count": 17,
   "metadata": {},
   "outputs": [
    {
     "data": {
      "text/plain": [
       "Text(0, 0.5, '100m (performance standardisée)')"
      ]
     },
     "execution_count": 17,
     "metadata": {},
     "output_type": "execute_result"
    },
    {
     "data": {
      "image/png": "[encoded data removed]",
      "text/plain": [
       "<Figure size 360x360 with 1 Axes>"
      ]
     },
     "metadata": {
      "needs_background": "light"
     },
     "output_type": "display_data"
    }
   ],
   "source": [
    "fig = plt.figure(figsize=(5, 5)) # forcer une figure carrée\n",
    "\n",
    "data_400m_std = (my_data['400m'] - np.mean(my_data['400m']))/(np.std(my_data['400m']))\n",
    "data_100m_std = (my_data['100m'] - np.mean(my_data['100m']))/(np.std(my_data['100m']))\n",
    "\n",
    "\n",
    "plt.scatter(data_400m_std, data_100m_std, s=50)\n",
    "\n",
    "plt.xlabel('400m (performance standardisée)')\n",
    "plt.ylabel('100m (performance standardisée)')"
   ]
  },
  {
   "cell_type": "code",
   "execution_count": 18,
   "metadata": {},
   "outputs": [
    {
     "name": "stdout",
     "output_type": "stream",
     "text": [
      "Corrélation entre le 100m et le 400m : 0.52 (p=4.89e-04)\n"
     ]
    }
   ],
   "source": [
    "r, pval = st.pearsonr(my_data['400m'], my_data['100m'])\n",
    "print(\"Corrélation entre le 100m et le 400m : %.2f (p=%.2e)\" % (r, pval))"
   ]
  },
  {
   "cell_type": "markdown",
   "metadata": {},
   "source": [
    "__Réponse :__ je ne rejette pas mon hypothèse que les performances du 100m sont corrélés avec les perfomances du 400m"
   ]
  },
  {
   "cell_type": "markdown",
   "metadata": {},
   "source": [
    "### 3.2 [Pour aller plus loin] Matrice de nuages de points avec pandas\n",
    "Une matrice de nuages de points est une visualisation en k x k panneaux des relations deux à deux entre k variables :\n",
    "* sur la diagonale, l'histogramme pour chacune des variables \n",
    "* hors diagonale, les nuages de points entre deux variables (non standardisées).\n",
    "\n",
    "https://pandas.pydata.org/pandas-docs/stable/reference/api/pandas.plotting.scatter_matrix.html"
   ]
  },
  {
   "cell_type": "code",
   "execution_count": 19,
   "metadata": {
    "collapsed": false,
    "jupyter": {
     "outputs_hidden": false
    }
   },
   "outputs": [
    {
     "data": {
      "image/png": "[encoded data removed]",
      "text/plain": [
       "<Figure size 576x576 with 9 Axes>"
      ]
     },
     "metadata": {
      "needs_background": "light"
     },
     "output_type": "display_data"
    }
   ],
   "source": [
    "from pandas.plotting import scatter_matrix\n",
    "\n",
    "scatter_matrix(my_data[['Shot.put','High.jump', '400m']], alpha=0.5, s=60,\n",
    "               figsize=(8, 8));"
   ]
  },
  {
   "cell_type": "markdown",
   "metadata": {},
   "source": [
    "### 3.3 [Pour aller plus loin] Seaborn\n",
    "La librairie `seaborn` permet des visualisations plus élaborées que `matplotlib`. Vous pouvez par exemple explorer les capacités de `jointplot`. \n",
    "https://seaborn.pydata.org/generated/seaborn.jointplot.html"
   ]
  },
  {
   "cell_type": "code",
   "execution_count": 20,
   "metadata": {
    "collapsed": false,
    "jupyter": {
     "outputs_hidden": false
    }
   },
   "outputs": [
    {
     "data": {
      "text/plain": [
       "<seaborn.axisgrid.JointGrid at 0x26caad372e0>"
      ]
     },
     "execution_count": 20,
     "metadata": {},
     "output_type": "execute_result"
    },
    {
     "data": {
      "image/png": "[encoded data removed]",
      "text/plain": [
       "<Figure size 432x432 with 3 Axes>"
      ]
     },
     "metadata": {},
     "output_type": "display_data"
    },
    {
     "data": {
      "image/png": "[encoded data removed]",
      "text/plain": [
       "<Figure size 432x432 with 3 Axes>"
      ]
     },
     "metadata": {},
     "output_type": "display_data"
    }
   ],
   "source": [
    "# fancier plot with seaborn : https://seaborn.pydata.org/\n",
    "import seaborn as sns\n",
    "sns.set_style('whitegrid')\n",
    "\n",
    "sns.jointplot(x='Shot.put', y='400m', data = my_data, \n",
    "              height=6, space=0, color='b')\n",
    "\n",
    "sns.jointplot(x='Shot.put', y='400m', data = my_data, \n",
    "              kind='reg', height=6, space=0, color='b')"
   ]
  },
  {
   "cell_type": "markdown",
   "metadata": {},
   "source": [
    "## 4. ACP des scores aux 10 épreuves\n",
    "\n",
    "Nous allons maintenant effectuer une analyse en composantes principales des scores aux 10 épreuves."
   ]
  },
  {
   "cell_type": "markdown",
   "metadata": {},
   "source": [
    "### 4.1 Création de l'array numpy correspondant"
   ]
  },
  {
   "cell_type": "code",
   "execution_count": 21,
   "metadata": {
    "tags": []
   },
   "outputs": [
    {
     "name": "stdout",
     "output_type": "stream",
     "text": [
      "(41, 10)\n"
     ]
    }
   ],
   "source": [
    "X = np.array(my_data.drop(columns=['Points', 'Rank', 'Competition']))\n",
    "print(X.shape)"
   ]
  },
  {
   "cell_type": "markdown",
   "metadata": {},
   "source": [
    "__Question :__ \n",
    "* Quel est le nombre d'individus dans la matrice de données `X` ?\n",
    "* Quel est le nombre de variables dans la matrice de données `X` ?"
   ]
  },
  {
   "cell_type": "markdown",
   "metadata": {},
   "source": [
    "__Réponse :__ "
   ]
  },
  {
   "cell_type": "markdown",
   "metadata": {},
   "source": [
    "### 4.2 Standardisation des données\n",
    "\n",
    "Plus haut, nous avons standardisé les variables nous-mêmes en leur retirant leur moyenne et en les divisant par leur écart-type. Cette tâche est entièrement automatisée par `scikit-learn` :\n",
    "https://scikit-learn.org/stable/modules/generated/sklearn.preprocessing.StandardScaler.html"
   ]
  },
  {
   "cell_type": "code",
   "execution_count": 22,
   "metadata": {},
   "outputs": [],
   "source": [
    "from sklearn import preprocessing"
   ]
  },
  {
   "cell_type": "code",
   "execution_count": 23,
   "metadata": {},
   "outputs": [],
   "source": [
    "std_scale = preprocessing.StandardScaler()\n",
    "std_scale.fit(X)\n",
    "X_scaled = std_scale.transform(X)"
   ]
  },
  {
   "cell_type": "markdown",
   "metadata": {},
   "source": [
    "### 4.3 Calcul des composantes principales\n",
    "\n",
    "Les algorithmes de factorisation de matrice de `scikit-learn` sont inclus dans le module `decomposition`. Pour  l'ACP, référez-vous à : \n",
    "http://scikit-learn.org/stable/modules/generated/sklearn.decomposition.PCA.html"
   ]
  },
  {
   "cell_type": "code",
   "execution_count": 24,
   "metadata": {},
   "outputs": [],
   "source": [
    "from sklearn import decomposition"
   ]
  },
  {
   "cell_type": "markdown",
   "metadata": {},
   "source": [
    "Remarque : Nous avons ici peu de variables et pouvons nous permettre de calculer toutes les PC. \n",
    "\n",
    "La plupart des algorithmes implémentés dans `scikit-learn` suivent le fonctionnement suivant : \n",
    "* on instancie un objet, correspondant à un type d'algorithme/modèle, avec ses hyperparamètres (ici le nombre de composantes)\n",
    "* on utilise la méthode `fit` pour passer les données à cet algorithme\n",
    "* les paramètres appris sont maintenant accessibles comme arguments de cet objet."
   ]
  },
  {
   "cell_type": "code",
   "execution_count": 25,
   "metadata": {},
   "outputs": [
    {
     "name": "stdout",
     "output_type": "stream",
     "text": [
      "<class 'sklearn.decomposition._pca.PCA'>\n"
     ]
    }
   ],
   "source": [
    "# Instanciation d'un objet PCA pour 10 composantes principales\n",
    "pca = decomposition.PCA(n_components=10)\n",
    "print(type(pca))"
   ]
  },
  {
   "cell_type": "code",
   "execution_count": 26,
   "metadata": {},
   "outputs": [
    {
     "data": {
      "text/plain": [
       "PCA(n_components=10)"
      ]
     },
     "execution_count": 26,
     "metadata": {},
     "output_type": "execute_result"
    }
   ],
   "source": [
    "# On passe maintenant les données standardisées à cet objet\n",
    "# C'est ici que se font les calculs\n",
    "pca.fit(X_scaled)"
   ]
  },
  {
   "cell_type": "markdown",
   "metadata": {},
   "source": [
    "### 4.4 Proportion de variance expliquée par les PCs\n",
    "\n",
    "Nous allons maintenant afficher la proportion de variance expliquée par les différentes composantes. Il est accessible dans le paramètre `explained_variance_ration_` de notre objet `pca`."
   ]
  },
  {
   "cell_type": "code",
   "execution_count": 27,
   "metadata": {},
   "outputs": [
    {
     "data": {
      "text/plain": [
       "Text(0, 0.5, 'Proportion de variance expliquée')"
      ]
     },
     "execution_count": 27,
     "metadata": {},
     "output_type": "execute_result"
    },
    {
     "data": {
      "image/png": "[encoded data removed]",
      "text/plain": [
       "<Figure size 432x288 with 1 Axes>"
      ]
     },
     "metadata": {},
     "output_type": "display_data"
    }
   ],
   "source": [
    "plt.plot(np.arange(1,11), pca.explained_variance_ratio_, marker='o')\n",
    "\n",
    "plt.xlabel(\"Nombre de composantes principales\")\n",
    "plt.ylabel(\"Proportion de variance expliquée\")"
   ]
  },
  {
   "cell_type": "markdown",
   "metadata": {},
   "source": [
    "__Question :__ Affichez la proportion *cumulative* de variance expliquée"
   ]
  },
  {
   "cell_type": "markdown",
   "metadata": {},
   "source": [
    "__Réponse :__"
   ]
  },
  {
   "cell_type": "code",
   "execution_count": 28,
   "metadata": {},
   "outputs": [
    {
     "data": {
      "text/plain": [
       "Text(0, 0.5, 'Proportion de variance expliquée')"
      ]
     },
     "execution_count": 28,
     "metadata": {},
     "output_type": "execute_result"
    },
    {
     "data": {
      "image/png": "[encoded data removed]",
      "text/plain": [
       "<Figure size 432x288 with 1 Axes>"
      ]
     },
     "metadata": {},
     "output_type": "display_data"
    }
   ],
   "source": [
    "plt.plot(np.arange(1,11), np.cumsum(pca.explained_variance_ratio_), marker='o')\n",
    "\n",
    "plt.xlabel(\"Nombre de composantes principales\")\n",
    "plt.ylabel(\"Proportion de variance expliquée\")"
   ]
  },
  {
   "cell_type": "markdown",
   "metadata": {},
   "source": [
    "__Questions :__ \n",
    "* Quelle est la proportion de variance expliquée par les deux premières composantes ? \n",
    "* Combien de composantes faudrait-il utiliser pour expliquer 80% de la variance des données ?"
   ]
  },
  {
   "cell_type": "markdown",
   "metadata": {},
   "source": [
    "__Réponse :__"
   ]
  },
  {
   "cell_type": "markdown",
   "metadata": {},
   "source": [
    "### 4.5 Projection des données sur les deux premières composantes principales\n",
    "\n",
    "Nous allons maintenant utiliser uniquement les deux premières composantes principales.\n",
    "\n",
    "Commençons par calculer la nouvelle représentation des données, c'est-à-dire leur projection sur ces deux PC. "
   ]
  },
  {
   "cell_type": "code",
   "execution_count": 29,
   "metadata": {},
   "outputs": [
    {
     "name": "stdout",
     "output_type": "stream",
     "text": [
      "(41, 2)\n"
     ]
    }
   ],
   "source": [
    "pca = decomposition.PCA(n_components=2)\n",
    "pca.fit(X_scaled)\n",
    "X_projected = pca.transform(X_scaled)\n",
    "print(X_projected.shape)"
   ]
  },
  {
   "cell_type": "markdown",
   "metadata": {},
   "source": [
    "__Question :__ Affichez un nuage de point représentant les données selon ces deux PC."
   ]
  },
  {
   "cell_type": "code",
   "execution_count": 33,
   "metadata": {},
   "outputs": [
    {
     "data": {
      "text/plain": [
       "Text(0, 0.5, 'PC2')"
      ]
     },
     "execution_count": 33,
     "metadata": {},
     "output_type": "execute_result"
    },
    {
     "data": {
      "image/png": "[encoded data removed]",
      "text/plain": [
       "<Figure size 432x288 with 1 Axes>"
      ]
     },
     "metadata": {},
     "output_type": "display_data"
    }
   ],
   "source": [
    "plt.scatter(X_projected[:,0], X_projected[:,1])\n",
    "\n",
    "plt.xlabel('PC1')\n",
    "plt.ylabel('PC2')"
   ]
  },
  {
   "cell_type": "markdown",
   "metadata": {},
   "source": [
    "__Question :__ Colorez chaque point du nuage de points ci-dessus en fonction du classement de l'athlète qu'il représente. Qu'en conclure sur l'interprétation de la PC1 ?"
   ]
  },
  {
   "cell_type": "markdown",
   "metadata": {},
   "source": [
    "__Réponse :__"
   ]
  },
  {
   "cell_type": "code",
   "execution_count": 36,
   "metadata": {},
   "outputs": [
    {
     "data": {
      "text/plain": [
       "<matplotlib.colorbar.Colorbar at 0x26cac440550>"
      ]
     },
     "execution_count": 36,
     "metadata": {},
     "output_type": "execute_result"
    },
    {
     "data": {
      "image/png": "[encoded data removed]",
      "text/plain": [
       "<Figure size 432x288 with 2 Axes>"
      ]
     },
     "metadata": {},
     "output_type": "display_data"
    }
   ],
   "source": [
    "plt.scatter(X_projected[:,0], X_projected[:,1], c=my_data['Rank'])\n",
    "\n",
    "plt.xlabel('PC1')\n",
    "plt.ylabel('PC2')\n",
    "plt.colorbar(label='classement')"
   ]
  },
  {
   "cell_type": "markdown",
   "metadata": {},
   "source": [
    "### 4.6 Interprétation des deux composantes principales\n",
    "Chaque composante principale est une combinaison linéaire des variables décrivant les données. Les poids de cette combinaison linéaire sont accesibles dans `pca.components_`.\n",
    "\n",
    "Nous pouvons visualiser non pas les individus, mais les 10 variables dans l'espace des 2 composantes principales."
   ]
  },
  {
   "cell_type": "code",
   "execution_count": 30,
   "metadata": {},
   "outputs": [
    {
     "name": "stdout",
     "output_type": "stream",
     "text": [
      "[-0.42829627  0.41015201  0.34414444  0.31619436 -0.3757157  -0.41255442\n",
      "  0.30542571  0.02783081  0.15319802 -0.03210733]\n"
     ]
    }
   ],
   "source": [
    "pcs = pca.components_\n",
    "print(pcs[0])"
   ]
  },
  {
   "cell_type": "code",
   "execution_count": 31,
   "metadata": {},
   "outputs": [
    {
     "data": {
      "text/plain": [
       "Text(0, 0.5, 'Contribution à la PC2')"
      ]
     },
     "execution_count": 31,
     "metadata": {},
     "output_type": "execute_result"
    },
    {
     "data": {
      "image/png": "[encoded data removed]",
      "text/plain": [
       "<Figure size 432x432 with 1 Axes>"
      ]
     },
     "metadata": {},
     "output_type": "display_data"
    }
   ],
   "source": [
    "fig = plt.figure(figsize=(6, 6))\n",
    "\n",
    "plt.scatter(pcs[0], pcs[1])\n",
    "for (x_coordinate, y_coordinate, feature_name) in zip(pcs[0], pcs[1], my_data.columns[:10]):\n",
    "    plt.text(x_coordinate, y_coordinate, feature_name)                          \n",
    "    \n",
    "plt.xlabel(\"Contribution à la PC1\")\n",
    "plt.ylabel(\"Contribution à la PC2\")"
   ]
  },
  {
   "cell_type": "markdown",
   "metadata": {},
   "source": [
    "__Question :__ Quelles variables ont des contributions très similaires aux deux composantes principales ? Qu'en déduire sur leur similarité ?"
   ]
  },
  {
   "cell_type": "markdown",
   "metadata": {},
   "source": [
    "__Réponse :__ "
   ]
  },
  {
   "cell_type": "markdown",
   "metadata": {},
   "source": [
    "__Question :__ Comment interpréter le signe des contributions des variables à la première composantes principales ?"
   ]
  },
  {
   "cell_type": "markdown",
   "metadata": {},
   "source": [
    "__Réponse :__  "
   ]
  },
  {
   "cell_type": "markdown",
   "metadata": {},
   "source": [
    "__Question facultative :__ Comment les valeurs de `pca.explained_variance_ratio_` sont-elles obtenues ? Refaites le calcul vous-mêmes."
   ]
  },
  {
   "cell_type": "markdown",
   "metadata": {},
   "source": [
    "## 5 [Pour aller plus loin] Implémentation de l'ACP\n",
    "Cette partie s'inspire d'un notebook proposé par Joseph Boyd et Benoît Playe."
   ]
  },
  {
   "cell_type": "markdown",
   "metadata": {},
   "source": [
    "## 5.1 Décomposition spectrale de la matrice de covariance\n",
    "\n",
    "Les deux premières composantes principales de X sont les deux vecteurs propres correspondant aux deux plus grandes valeurs propres de la matrice de covariance $\\Sigma = \\frac1n X^\\top X.$"
   ]
  },
  {
   "cell_type": "markdown",
   "metadata": {},
   "source": [
    "__Question :__ Utilisez `nunpy.linalg` pour calculer les deux premières composantes principales de X. N'oubliez pas de travailler sur `X_scaled`. Comparez les à celles obtenues dans `pca.components_`."
   ]
  },
  {
   "cell_type": "markdown",
   "metadata": {},
   "source": [
    "__Question :__ Calculez la nouvelle représentation en deux dimensions des données. Comparez à celle obtenue dans `pca.components_`."
   ]
  },
  {
   "cell_type": "markdown",
   "metadata": {},
   "source": [
    "## 5.2 Décomposition en valeurs singulières"
   ]
  },
  {
   "cell_type": "markdown",
   "metadata": {},
   "source": [
    "__Question :__ Utiliser `linalg.svd` pour retrouver les deux premières composantes principales. Comparer."
   ]
  }
 ],
 "metadata": {
  "kernelspec": {
   "display_name": "Python 3",
   "language": "python",
   "name": "python3"
  },
  "language_info": {
   "codemirror_mode": {
    "name": "ipython",
    "version": 3
   },
   "file_extension": ".py",
   "mimetype": "text/x-python",
   "name": "python",
   "nbconvert_exporter": "python",
   "pygments_lexer": "ipython3",
   "version": "3.9.4"
  }
 },
 "nbformat": 4,
 "nbformat_minor": 4
}
