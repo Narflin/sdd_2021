{
 "cells": [
  {
   "cell_type": "code",
   "execution_count": null,
   "id": "3ae94491-e293-4288-af16-bf542b7d026f",
   "metadata": {},
   "outputs": [],
   "source": [
    "%pylab inline"
   ]
  },
  {
   "cell_type": "code",
   "execution_count": null,
   "id": "c13ef09b-4bd0-4dd3-b853-ea538b2d943e",
   "metadata": {},
   "outputs": [],
   "source": [
    "%config InlineBackend.figure_formats = ['svg']"
   ]
  },
  {
   "cell_type": "code",
   "execution_count": null,
   "id": "757e37cb-02d8-40c9-8eac-45ac7b0be589",
   "metadata": {},
   "outputs": [],
   "source": [
    "prop_cycle = plt.rcParams['axes.prop_cycle']\n",
    "def_colors = prop_cycle.by_key()['color']"
   ]
  },
  {
   "cell_type": "markdown",
   "id": "e4cfc129-0d6e-49a2-bc83-2ccf2586eda5",
   "metadata": {},
   "source": [
    "### Bar plot"
   ]
  },
  {
   "cell_type": "code",
   "execution_count": null,
   "id": "4fbd80fa-f5cd-4235-986e-14df1e788c08",
   "metadata": {},
   "outputs": [],
   "source": [
    "plt.rc('font', **{'family':'sans', 'size': 6})"
   ]
  },
  {
   "cell_type": "code",
   "execution_count": null,
   "id": "aa639458-3af6-4df4-825f-d67934ba6691",
   "metadata": {},
   "outputs": [],
   "source": [
    "yyy = [0.80, 0.73, 0.69, 0.71]"
   ]
  },
  {
   "cell_type": "code",
   "execution_count": null,
   "id": "2569fa2b-8fa9-4714-a939-393eca79f540",
   "metadata": {},
   "outputs": [],
   "source": [
    "plt.bar([1, 2.2, 2.8, 3.5], yyy, width=0.5, \n",
    "        yerr=[0.05, 0.02, 0.02, 0.03], \n",
    "        tick_label=['1', '2', '3', '4'], \n",
    "        color=['#cc0000', '#cc0033', '#cc0066', '#cc0099'],\n",
    "        ecolor=['#cc0000', '#cc0033', '#cc0066', '#cc0099'])\n",
    "        #capsize=9)\n",
    "#plt.xlabel(\"Modèles\")\n",
    "#plt.ylabel(\"Performance\", fontsize=10)\n",
    "plt.ylim(0.65, 0.85)\n",
    "plt.yticks([0.65, 0.71, 0.77, 0.83])\n",
    "plt.savefig('figures/horrible_bar_plot.pdf', bbox_inches='tight')"
   ]
  },
  {
   "cell_type": "markdown",
   "id": "6933254b-b3d9-46ed-b99f-3510c7e53666",
   "metadata": {},
   "source": [
    "## PCA plot with colors"
   ]
  },
  {
   "cell_type": "code",
   "execution_count": null,
   "id": "e843ced5-7201-4ca0-807f-50c38edb3dcb",
   "metadata": {},
   "outputs": [],
   "source": [
    "plt.rc('font', **{'family':'sans', 'size': 16})"
   ]
  },
  {
   "cell_type": "code",
   "execution_count": null,
   "id": "b0decf28-fa6e-42b6-8201-326d52164df0",
   "metadata": {},
   "outputs": [],
   "source": [
    "import pandas as pd\n",
    "my_data = pd.read_csv('../pc/pc2/data/decathlon.txt', sep=\"\\t\")  # lire les données dans un dataframe"
   ]
  },
  {
   "cell_type": "code",
   "execution_count": null,
   "id": "b36d0b9f-735f-4b88-9e87-63faacbc12a1",
   "metadata": {},
   "outputs": [],
   "source": [
    "X = np.array(my_data.drop(columns=['Points', 'Rank', 'Competition']))\n",
    "print(X.shape)"
   ]
  },
  {
   "cell_type": "code",
   "execution_count": null,
   "id": "88ce4492-aa50-405b-88e6-189850c58f7c",
   "metadata": {},
   "outputs": [],
   "source": [
    "from sklearn import preprocessing"
   ]
  },
  {
   "cell_type": "code",
   "execution_count": null,
   "id": "8c102a7a-8dba-43c5-9260-0fbcc06c6708",
   "metadata": {},
   "outputs": [],
   "source": [
    "std_scale = preprocessing.StandardScaler().fit(X)\n",
    "X_scaled = std_scale.transform(X)"
   ]
  },
  {
   "cell_type": "code",
   "execution_count": null,
   "id": "9a65fd98-2cf0-4a37-8bd6-d0c372bdf377",
   "metadata": {},
   "outputs": [],
   "source": [
    "from sklearn import decomposition"
   ]
  },
  {
   "cell_type": "code",
   "execution_count": null,
   "id": "d9517a97-7545-4dcc-bf07-aef327661c00",
   "metadata": {},
   "outputs": [],
   "source": [
    "pca = decomposition.PCA(n_components=2)\n",
    "pca.fit(X_scaled)\n",
    "X_projected = pca.transform(X_scaled)\n",
    "print(X_projected.shape)"
   ]
  },
  {
   "cell_type": "code",
   "execution_count": null,
   "id": "b170230e-fe84-4056-a24e-6749ee875a0b",
   "metadata": {},
   "outputs": [],
   "source": [
    "fig = plt.figure(figsize=(5, 5))\n",
    "\n",
    "plt.scatter(X_projected[:, 0], X_projected[:, 1], c=my_data['Rank'], cmap='cividis')\n",
    "\n",
    "plt.xlabel(\"PC 1\")\n",
    "plt.ylabel(\"PC 2\")\n",
    "plt.colorbar(label='classement')\n",
    "\n",
    "ax = fig.gca()\n",
    "ax.set_aspect('equal')\n",
    "fig.set_size_inches([7, 4],forward=True)\n",
    "plt.savefig('figures/pca_plot_cividis.png', bbox_inches='tight')"
   ]
  },
  {
   "cell_type": "code",
   "execution_count": null,
   "id": "687937cf-2eac-4fee-b95f-908b0342b6b1",
   "metadata": {},
   "outputs": [],
   "source": [
    "fig = plt.figure(figsize=(5, 5))\n",
    "\n",
    "plt.scatter(X_projected[:, 0], X_projected[:, 1], c=my_data['Rank'], cmap='RdYlGn')\n",
    "\n",
    "plt.xlabel(\"PC 1\")\n",
    "plt.ylabel(\"PC 2\")\n",
    "plt.colorbar(label='classement')\n",
    "\n",
    "ax = fig.gca()\n",
    "ax.set_aspect('equal')\n",
    "fig.set_size_inches([7, 4],forward=True)\n",
    "plt.savefig('figures/pca_plot_RdYlGn.png', bbox_inches='tight')"
   ]
  },
  {
   "cell_type": "code",
   "execution_count": null,
   "id": "eae46513-3bec-4351-bce9-04c7f95153cb",
   "metadata": {},
   "outputs": [],
   "source": []
  }
 ],
 "metadata": {
  "kernelspec": {
   "display_name": "Python 3",
   "language": "python",
   "name": "python3"
  },
  "language_info": {
   "codemirror_mode": {
    "name": "ipython",
    "version": 3
   },
   "file_extension": ".py",
   "mimetype": "text/x-python",
   "name": "python",
   "nbconvert_exporter": "python",
   "pygments_lexer": "ipython3",
   "version": "3.9.4"
  }
 },
 "nbformat": 4,
 "nbformat_minor": 5
}
